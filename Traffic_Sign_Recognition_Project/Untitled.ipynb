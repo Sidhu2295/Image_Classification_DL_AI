{
 "cells": [
  {
   "cell_type": "code",
   "execution_count": 2,
   "id": "a0328ef4",
   "metadata": {},
   "outputs": [],
   "source": [
    "import tensorflow as tf\n",
    "from tensorflow import keras\n",
    "from tensorflow.keras import models, layers\n",
    "from tensorflow.keras.layers import BatchNormalization\n",
    "import matplotlib.pyplot as plt\n",
    "import seaborn as sns\n",
    "import pandas as pd\n",
    "import numpy as np"
   ]
  },
  {
   "cell_type": "code",
   "execution_count": 3,
   "id": "f46a7435",
   "metadata": {},
   "outputs": [],
   "source": [
    "IMG_SIZE = 30\n",
    "CHANNELS = 3\n",
    "CLASSES = 43"
   ]
  },
  {
   "cell_type": "code",
   "execution_count": null,
   "id": "06d8db7a",
   "metadata": {},
   "outputs": [
    {
     "name": "stdout",
     "output_type": "stream",
     "text": [
      "../Traffic_Sign_Recognition/Train/0/\n",
      "../Traffic_Sign_Recognition/Train/1/\n",
      "../Traffic_Sign_Recognition/Train/2/\n"
     ]
    }
   ],
   "source": [
    "import os\n",
    "import cv2\n",
    "from PIL import Image\n",
    "\n",
    "data = []\n",
    "labels = []\n",
    "\n",
    "for i in range(CLASSES):\n",
    "    path = '../Traffic_Sign_Recognition/Train/{0}/'.format(i)\n",
    "    print(path)\n",
    "    Class = os.listdir(path)\n",
    "    for a in Class:\n",
    "        try:\n",
    "            image=cv2.imread(path+a)\n",
    "            image_array = Image.fromarray(image,'RGB')\n",
    "            size_image = image_array.resize((IMG_SIZE, IMG_SIZE))\n",
    "            data.append(np.array(size_image))\n",
    "            labels.append(i)\n",
    "        except AttributeError:\n",
    "            print(\" \")\n",
    "\n",
    "Cells = np.array(data)\n",
    "labels = np.array(labels)\n",
    "\n",
    "s = np.arange(Cells.shape[0])\n",
    "np.random.seed(43)\n",
    "np.random.shuffle(s)\n",
    "Cells=Cells[s]\n",
    "labels=labels[s]"
   ]
  },
  {
   "cell_type": "code",
   "execution_count": null,
   "id": "08e41e80",
   "metadata": {},
   "outputs": [],
   "source": [
    "data_size = int(0.2*len(labels))"
   ]
  },
  {
   "cell_type": "code",
   "execution_count": null,
   "id": "f61efbda",
   "metadata": {},
   "outputs": [],
   "source": [
    "X_train = Cells[data_size:]\n",
    "X_val = Cells[:data_size]\n",
    "\n",
    "X_train = X_train.astype('float32')/255\n",
    "X_val = X_val.astype('float32')/255\n",
    "\n",
    "y_train = labels[data_size:]\n",
    "y_val = labels[:data_size]\n",
    "\n",
    "from tensorflow.keras.utils import to_categorical\n",
    "y_train = to_categorical(y_train, 43)\n",
    "y_val = to_categorical(y_val, 43)"
   ]
  },
  {
   "cell_type": "code",
   "execution_count": null,
   "id": "4181b356",
   "metadata": {},
   "outputs": [],
   "source": [
    "model = models.Sequential([\n",
    "    layers.Conv2D(32, (5,5), activation='relu', input_shape=X_train.shape[1:]),\n",
    "    \n",
    "    layers.Conv2D(64, (5,5), activation='relu'),\n",
    "    layers.MaxPooling2D((2,2)),\n",
    "    layers.Dropout(0.25),\n",
    "    \n",
    "    layers.Conv2D(64, (5,5), activation='relu'),\n",
    "    layers.MaxPooling2D((2,2)),\n",
    "    layers.Dropout(0.25),\n",
    "    \n",
    "    layers.Flatten(),\n",
    "    layers.Dense(256, activation='relu'),\n",
    "    layers.Dropout(0.5),\n",
    "    layers.Dense(43, activation='softmax')\n",
    "])\n",
    "\n",
    "model.compile(\n",
    "    optimizer='adam',\n",
    "    loss='categorical_crossentropy',\n",
    "    metrics=['accuracy']\n",
    ")"
   ]
  },
  {
   "cell_type": "code",
   "execution_count": null,
   "id": "49bbbdb8",
   "metadata": {},
   "outputs": [],
   "source": [
    "model.summary()"
   ]
  },
  {
   "cell_type": "code",
   "execution_count": null,
   "id": "5bfea0bf",
   "metadata": {},
   "outputs": [],
   "source": [
    "epochs = 20\n",
    "with tf.device('/device:GPU:0'):\n",
    "    history = model.fit(X_train, y_train, batch_size=32, epochs=epochs,\n",
    "    validation_data=(X_val, y_val))\n",
    "\n",
    "#Display of the accuracy and the loss values\n",
    "import matplotlib.pyplot as plt\n",
    "\n",
    "plt.figure(0)\n",
    "plt.plot(history.history['acc'], label='training accuracy')\n",
    "plt.plot(history.history['val_acc'], label='val accuracy')\n",
    "plt.title('Accuracy')\n",
    "plt.xlabel('epochs')\n",
    "plt.ylabel('accuracy')\n",
    "plt.legend()\n",
    "\n",
    "plt.figure(1)\n",
    "plt.plot(history.history['loss'], label='training loss')\n",
    "plt.plot(history.history['val_loss'], label='val loss')\n",
    "plt.title('Loss')\n",
    "plt.xlabel('epochs')\n",
    "plt.ylabel('loss')\n",
    "plt.legend()"
   ]
  },
  {
   "cell_type": "code",
   "execution_count": null,
   "id": "2d26a73d",
   "metadata": {},
   "outputs": [],
   "source": []
  }
 ],
 "metadata": {
  "kernelspec": {
   "display_name": "Python 3 (ipykernel)",
   "language": "python",
   "name": "python3"
  },
  "language_info": {
   "codemirror_mode": {
    "name": "ipython",
    "version": 3
   },
   "file_extension": ".py",
   "mimetype": "text/x-python",
   "name": "python",
   "nbconvert_exporter": "python",
   "pygments_lexer": "ipython3",
   "version": "3.9.13"
  }
 },
 "nbformat": 4,
 "nbformat_minor": 5
}
